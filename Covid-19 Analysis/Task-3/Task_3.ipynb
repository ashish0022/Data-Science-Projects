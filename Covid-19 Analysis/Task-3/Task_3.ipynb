{
 "cells": [
  {
   "cell_type": "markdown",
   "metadata": {},
   "source": [
    "# <u>TASK-3 Countries GRAPH of\n",
    "\n",
    "[a]. Confirmed Cases,\\\n",
    "[b]. Deaths Cases, \\\n",
    "[c]. Active Cases, \\\n",
    "[d]. Recoveries Cases"
   ]
  },
  {
   "cell_type": "code",
   "execution_count": 1,
   "metadata": {},
   "outputs": [],
   "source": [
    "import warnings\n",
    "warnings.filterwarnings('ignore')\n",
    "import pandas as pd\n",
    "import numpy as np\n",
    "import matplotlib.pyplot as plt\n",
    "import seaborn as sns\n",
    "sns.set()"
   ]
  },
  {
   "cell_type": "code",
   "execution_count": 2,
   "metadata": {},
   "outputs": [],
   "source": [
    "df = pd.read_csv('csse_daily.csv')"
   ]
  },
  {
   "cell_type": "code",
   "execution_count": 3,
   "metadata": {},
   "outputs": [],
   "source": [
    "Global = df[['Country_Region', 'Confirmed','Active', 'Recovered', 'Deaths' ]] "
   ]
  },
  {
   "cell_type": "code",
   "execution_count": 4,
   "metadata": {},
   "outputs": [
    {
     "data": {
      "text/plain": [
       "Country_Region    0\n",
       "Confirmed         0\n",
       "Active            0\n",
       "Recovered         0\n",
       "Deaths            0\n",
       "dtype: int64"
      ]
     },
     "execution_count": 4,
     "metadata": {},
     "output_type": "execute_result"
    }
   ],
   "source": [
    "Global.dropna(inplace = True)\n",
    "Global.isna().sum()"
   ]
  },
  {
   "cell_type": "code",
   "execution_count": 5,
   "metadata": {},
   "outputs": [],
   "source": [
    "Global['Active'] = Global['Active'].astype(int)"
   ]
  },
  {
   "cell_type": "code",
   "execution_count": 6,
   "metadata": {},
   "outputs": [
    {
     "name": "stdout",
     "output_type": "stream",
     "text": [
      "TOTAL COUNTRES IN THE DATSET IS 188\n"
     ]
    }
   ],
   "source": [
    "countries = Global['Country_Region'].unique()\n",
    "print(r'TOTAL COUNTRES IN THE DATSET IS', len(countries))"
   ]
  },
  {
   "cell_type": "code",
   "execution_count": 7,
   "metadata": {},
   "outputs": [],
   "source": [
    "# summing-up all states data to get whole country data\n",
    "Global = Global.groupby('Country_Region').sum()"
   ]
  },
  {
   "cell_type": "markdown",
   "metadata": {},
   "source": [
    "### COPY any country name from bellow"
   ]
  },
  {
   "cell_type": "code",
   "execution_count": 8,
   "metadata": {},
   "outputs": [
    {
     "data": {
      "text/plain": [
       "array(['US', 'Italy', 'Brazil', 'Russia', 'Mexico', 'Japan', 'Canada',\n",
       "       'Colombia', 'Peru', 'Spain', 'India', 'United Kingdom', 'China',\n",
       "       'Chile', 'Netherlands', 'Australia', 'Pakistan', 'Germany',\n",
       "       'Sweden', 'Ukraine', 'Denmark', 'France', 'Afghanistan', 'Albania',\n",
       "       'Algeria', 'Andorra', 'Angola', 'Antigua and Barbuda', 'Argentina',\n",
       "       'Armenia', 'Austria', 'Azerbaijan', 'Bahamas', 'Bahrain',\n",
       "       'Bangladesh', 'Barbados', 'Belarus', 'Belgium', 'Belize', 'Benin',\n",
       "       'Bhutan', 'Bolivia', 'Bosnia and Herzegovina', 'Botswana',\n",
       "       'Brunei', 'Bulgaria', 'Burkina Faso', 'Burma', 'Burundi',\n",
       "       'Cabo Verde', 'Cambodia', 'Cameroon', 'Central African Republic',\n",
       "       'Chad', 'Comoros', 'Congo (Brazzaville)', 'Congo (Kinshasa)',\n",
       "       'Costa Rica', \"Cote d'Ivoire\", 'Croatia', 'Cuba', 'Cyprus',\n",
       "       'Czechia', 'Diamond Princess', 'Djibouti', 'Dominica',\n",
       "       'Dominican Republic', 'Ecuador', 'Egypt', 'El Salvador',\n",
       "       'Equatorial Guinea', 'Eritrea', 'Estonia', 'Eswatini', 'Ethiopia',\n",
       "       'Fiji', 'Finland', 'Gabon', 'Gambia', 'Georgia', 'Ghana', 'Greece',\n",
       "       'Grenada', 'Guatemala', 'Guinea', 'Guinea-Bissau', 'Guyana',\n",
       "       'Haiti', 'Holy See', 'Honduras', 'Hungary', 'Iceland', 'Indonesia',\n",
       "       'Iran', 'Iraq', 'Ireland', 'Israel', 'Jamaica', 'Jordan',\n",
       "       'Kazakhstan', 'Kenya', 'Korea, South', 'Kosovo', 'Kuwait',\n",
       "       'Kyrgyzstan', 'Laos', 'Latvia', 'Lebanon', 'Lesotho', 'Liberia',\n",
       "       'Libya', 'Liechtenstein', 'Lithuania', 'Luxembourg', 'MS Zaandam',\n",
       "       'Madagascar', 'Malawi', 'Malaysia', 'Maldives', 'Mali', 'Malta',\n",
       "       'Mauritania', 'Mauritius', 'Moldova', 'Monaco', 'Mongolia',\n",
       "       'Montenegro', 'Morocco', 'Mozambique', 'Namibia', 'Nepal',\n",
       "       'New Zealand', 'Nicaragua', 'Niger', 'Nigeria', 'North Macedonia',\n",
       "       'Norway', 'Oman', 'Panama', 'Papua New Guinea', 'Paraguay',\n",
       "       'Philippines', 'Poland', 'Portugal', 'Qatar', 'Romania', 'Rwanda',\n",
       "       'Saint Kitts and Nevis', 'Saint Lucia',\n",
       "       'Saint Vincent and the Grenadines', 'San Marino',\n",
       "       'Sao Tome and Principe', 'Saudi Arabia', 'Senegal', 'Serbia',\n",
       "       'Seychelles', 'Sierra Leone', 'Singapore', 'Slovakia', 'Slovenia',\n",
       "       'Somalia', 'South Africa', 'South Sudan', 'Sri Lanka', 'Sudan',\n",
       "       'Suriname', 'Switzerland', 'Syria', 'Taiwan*', 'Tajikistan',\n",
       "       'Tanzania', 'Thailand', 'Timor-Leste', 'Togo',\n",
       "       'Trinidad and Tobago', 'Tunisia', 'Turkey', 'Uganda',\n",
       "       'United Arab Emirates', 'Uruguay', 'Uzbekistan', 'Venezuela',\n",
       "       'Vietnam', 'West Bank and Gaza', 'Western Sahara', 'Yemen',\n",
       "       'Zambia', 'Zimbabwe'], dtype=object)"
      ]
     },
     "execution_count": 8,
     "metadata": {},
     "output_type": "execute_result"
    }
   ],
   "source": [
    "countries"
   ]
  },
  {
   "cell_type": "markdown",
   "metadata": {},
   "source": [
    "## PASTE the name of country below for corona graph "
   ]
  },
  {
   "cell_type": "code",
   "execution_count": 9,
   "metadata": {},
   "outputs": [
    {
     "data": {
      "image/png": "[encoded data removed]",
      "text/plain": [
       "<Figure size 432x288 with 1 Axes>"
      ]
     },
     "metadata": {},
     "output_type": "display_data"
    }
   ],
   "source": [
    "Name = 'Canada' #PASTE THE COUNTRY NAME HERE\n",
    "\n",
    "\n",
    "Global.loc[Name,:].plot.barh(width=0.5, color=['skyblue','orange','lightgreen','red'])    \n",
    "plt.title('Corona Data of '+ str(Name), size= 24)\n",
    "plt.ylabel('',size = 18)\n",
    "plt.xlabel('Cases', size = 18)\n",
    "plt.show()"
   ]
  }
 ],
 "metadata": {
  "kernelspec": {
   "display_name": "Python 3",
   "language": "python",
   "name": "python3"
  },
  "language_info": {
   "codemirror_mode": {
    "name": "ipython",
    "version": 3
   },
   "file_extension": ".py",
   "mimetype": "text/x-python",
   "name": "python",
   "nbconvert_exporter": "python",
   "pygments_lexer": "ipython3",
   "version": "3.7.6"
  }
 },
 "nbformat": 4,
 "nbformat_minor": 4
}
