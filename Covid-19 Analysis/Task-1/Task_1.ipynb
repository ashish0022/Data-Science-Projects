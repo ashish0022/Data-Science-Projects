{
 "cells": [
  {
   "cell_type": "markdown",
   "metadata": {},
   "source": [
    "# <u>TASK-1 U.S. 58-state's cases<u>\n",
    "[a]. Confirmed cases,\\\n",
    "[b]. Active cases,\\\n",
    "[c]. Deaths,\\\n",
    "[d]. Recoveries,\\\n",
    "[e]. Mortality rate (CFR),\\\n",
    "[f ].  Recovery rate\n",
    "### Till 07/13/2020"
   ]
  },
  {
   "cell_type": "markdown",
   "metadata": {},
   "source": [
    "## Importing the libraries"
   ]
  },
  {
   "cell_type": "code",
   "execution_count": 1,
   "metadata": {},
   "outputs": [],
   "source": [
    "import pandas as pd\n",
    "import numpy as np\n",
    "import matplotlib.pyplot as plt\n",
    "import seaborn as sns\n",
    "sns.set()"
   ]
  },
  {
   "cell_type": "code",
   "execution_count": 2,
   "metadata": {},
   "outputs": [],
   "source": [
    "total_till_7_13_20 = pd.read_csv('07-12-2020.csv')"
   ]
  },
  {
   "cell_type": "code",
   "execution_count": 4,
   "metadata": {},
   "outputs": [
    {
     "data": {
      "text/plain": [
       "Index(['Province_State', 'Country_Region', 'Last_Update', 'Lat', 'Long_',\n",
       "       'Confirmed', 'Deaths', 'Recovered', 'Active', 'FIPS', 'Incident_Rate',\n",
       "       'People_Tested', 'People_Hospitalized', 'Mortality_Rate', 'UID', 'ISO3',\n",
       "       'Testing_Rate', 'Hospitalization_Rate'],\n",
       "      dtype='object')"
      ]
     },
     "execution_count": 4,
     "metadata": {},
     "output_type": "execute_result"
    }
   ],
   "source": [
    "total_till_7_13_20.columns"
   ]
  },
  {
   "cell_type": "code",
   "execution_count": 5,
   "metadata": {},
   "outputs": [],
   "source": [
    "total = total_till_7_13_20[['Confirmed', 'Deaths', 'Recovered', 'Active']]\n",
    "#total"
   ]
  },
  {
   "cell_type": "code",
   "execution_count": 6,
   "metadata": {},
   "outputs": [
    {
     "data": {
      "image/png": "[encoded data removed]",
      "text/plain": [
       "<Figure size 432x288 with 1 Axes>"
      ]
     },
     "metadata": {},
     "output_type": "display_data"
    }
   ],
   "source": [
    "# Data to plot on pichart\n",
    "labels = 'Confirmed', 'Deaths', 'Recovered', 'Active'\n",
    "sizes = [total['Confirmed'].sum(),total['Deaths'].sum(), total['Recovered'].sum(), total['Active'].sum()]\n",
    "colors = ['gold', 'yellowgreen', 'lightcoral', 'lightskyblue']\n",
    "explode = (0.03, 0.3, 0.03, 0.03)  # explode 1st slice\n",
    "\n",
    "# Plot\n",
    "plt.pie(sizes, explode=explode, labels=labels, colors=colors,\n",
    "autopct='%1.1f%%', shadow=True, startangle=180)\n",
    "plt.axis('equal')\n",
    "plt.show()"
   ]
  },
  {
   "cell_type": "code",
   "execution_count": 7,
   "metadata": {},
   "outputs": [
    {
     "name": "stdout",
     "output_type": "stream",
     "text": [
      "\n",
      "\n",
      "====================REPORT FOR US 57 STATES TILL 07/13/2020=====================\n",
      "\n",
      "\n",
      "\n",
      "Total Confirmed Cases reported ========>  3304942\n",
      "\n",
      "\n",
      "Total Deaths reported  ================>  135205\n",
      "\n",
      "\n",
      "Total Recoveries reported =============>  1006326\n",
      "\n",
      "\n",
      "Total Active reported  ================>  2163411\n",
      "\n",
      "\n",
      "Mortality Rate (Deaths/Confirmed) =====>  4.09\n",
      "\n",
      "\n",
      "Recovery rate (Recovered/Confirmed) ===>  30.45\n"
     ]
    }
   ],
   "source": [
    "Confirmed = total['Confirmed'].sum()\n",
    "Recovered = total['Recovered'].sum()\n",
    "Deaths = total['Deaths'].sum()\n",
    "Active = total['Active'].sum()\n",
    "print('\\n')\n",
    "print('{:=^80}'.format('REPORT FOR US 57 STATES TILL 07/13/2020'))\n",
    "print('\\n\\n')\n",
    "print(r'Total Confirmed Cases reported ========> ', int(Confirmed))\n",
    "print('\\n')\n",
    "print(r'Total Deaths reported  ================> ', int(Deaths))\n",
    "print('\\n')\n",
    "print(r'Total Recoveries reported =============> ', int(Recovered))\n",
    "print('\\n')\n",
    "print(r'Total Active reported  ================> ', int(Active))\n",
    "print('\\n')\n",
    "print(r'Mortality Rate (Deaths/Confirmed) =====> ', round((Deaths/Confirmed)*100,2))\n",
    "print('\\n')\n",
    "print(r'Recovery rate (Recovered/Confirmed) ===> ', round((Recovered/Confirmed)*(100),2))"
   ]
  },
  {
   "cell_type": "code",
   "execution_count": null,
   "metadata": {},
   "outputs": [],
   "source": []
  }
 ],
 "metadata": {
  "kernelspec": {
   "display_name": "Python 3",
   "language": "python",
   "name": "python3"
  },
  "language_info": {
   "codemirror_mode": {
    "name": "ipython",
    "version": 3
   },
   "file_extension": ".py",
   "mimetype": "text/x-python",
   "name": "python",
   "nbconvert_exporter": "python",
   "pygments_lexer": "ipython3",
   "version": "3.7.6"
  }
 },
 "nbformat": 4,
 "nbformat_minor": 4
}
