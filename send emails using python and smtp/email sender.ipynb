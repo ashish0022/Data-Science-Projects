{
 "cells": [
  {
   "cell_type": "markdown",
   "metadata": {},
   "source": [
    "# Send emails with python\n",
    "## SMTP: Simple Mail Transfer Protocol/standerd\n",
    "NOTE:- Stars are used here to represent the fields to be field by user, remove all stars before entring values or running the model."
   ]
  },
  {
   "cell_type": "code",
   "execution_count": 1,
   "metadata": {},
   "outputs": [],
   "source": [
    "# Import smtplib for the actual sending function\n",
    "import smtplib\n",
    "\n",
    "# Import the email modules we'll need\n",
    "from email.message import EmailMessage\n",
    "import emoji"
   ]
  },
  {
   "cell_type": "code",
   "execution_count": null,
   "metadata": {},
   "outputs": [],
   "source": [
    "email = EmailMessage()\n",
    "email['From'] = \"***Just enter your/organization name***\"\n",
    "email['To']   = \"***@gmail.com***\" #to whome you wants to send\n",
    "email['subject'] = \"***Subject of your E-mail***\" \n",
    "\n",
    "email.set_content(\"***Enter your message content here***\")"
   ]
  },
  {
   "cell_type": "code",
   "execution_count": null,
   "metadata": {},
   "outputs": [],
   "source": [
    "with smtplib.SMTP(host='smtp.gmail.com',port=587) as smtp:\n",
    "    smtp.ehlo()\n",
    "    smtp.starttls()\n",
    "    smtp.login(\"***enter Your Gmail ID here***\", \"***enter your password here***\")\n",
    "    smtp.send_message(email)\n",
    "    print('Done! Mail has been sent')"
   ]
  },
  {
   "cell_type": "code",
   "execution_count": null,
   "metadata": {},
   "outputs": [],
   "source": []
  },
  {
   "cell_type": "code",
   "execution_count": null,
   "metadata": {},
   "outputs": [],
   "source": [
    "# HOST ADDERSS ; change HOST ABOVE if your mail provider is different then the G-mail.\n",
    "yahoo = \"smtp.mail.yahoo.com\"\n",
    "homail/outlook = \"smtp-mail.outlook.com\""
   ]
  },
  {
   "cell_type": "markdown",
   "metadata": {},
   "source": [
    "### NOTE:\n",
    "If you still get an error after entring correct crediantils(email and passsword) please make sure your #Gmail is less secure for 3rd part apps by given lik bellow.\n",
    "\n",
    "step 1. Keep login in your gmail.\n",
    "\n",
    "step 2. Make google account less secure for 3rd part apps https://www.google.com/settings/security/lesssecureappsm by this link."
   ]
  },
  {
   "cell_type": "code",
   "execution_count": null,
   "metadata": {},
   "outputs": [],
   "source": []
  }
 ],
 "metadata": {
  "kernelspec": {
   "display_name": "Python 3",
   "language": "python",
   "name": "python3"
  },
  "language_info": {
   "codemirror_mode": {
    "name": "ipython",
    "version": 3
   },
   "file_extension": ".py",
   "mimetype": "text/x-python",
   "name": "python",
   "nbconvert_exporter": "python",
   "pygments_lexer": "ipython3",
   "version": "3.8.3"
  }
 },
 "nbformat": 4,
 "nbformat_minor": 4
}
